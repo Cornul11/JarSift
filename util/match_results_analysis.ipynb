{
 "cells": [
  {
   "cell_type": "code",
   "execution_count": 1,
   "id": "initial_id",
   "metadata": {
    "collapsed": true,
    "ExecuteTime": {
     "end_time": "2024-04-08T18:19:55.547360Z",
     "start_time": "2024-04-08T18:19:55.148977Z"
    }
   },
   "outputs": [],
   "source": [
    "import pandas as pd"
   ]
  },
  {
   "cell_type": "code",
   "outputs": [],
   "source": [
    "csv_file_path = \"match_results.csv\"\n",
    "df = pd.read_csv(csv_file_path)"
   ],
   "metadata": {
    "collapsed": false,
    "ExecuteTime": {
     "end_time": "2024-04-08T18:19:55.585862Z",
     "start_time": "2024-04-08T18:19:55.548595Z"
    }
   },
   "id": "9a94a3f7c2b74a2f",
   "execution_count": 2
  },
  {
   "cell_type": "code",
   "outputs": [],
   "source": [
    "artifact_count = df.groupby(\"vulnerable artifact\")[\"Matching Artifact\"].count()\n",
    "\n",
    "artifact_counts_sorted = artifact_count.sort_values(ascending=False)"
   ],
   "metadata": {
    "collapsed": false,
    "ExecuteTime": {
     "end_time": "2024-04-08T18:19:56.852211Z",
     "start_time": "2024-04-08T18:19:56.828771Z"
    }
   },
   "id": "f63ea2b806d32fb9",
   "execution_count": 3
  },
  {
   "cell_type": "code",
   "outputs": [],
   "source": [
    "# write this to a file\n",
    "artifact_counts_sorted.to_csv(\"artifact_counts_sorted.csv\")\n",
    "\n",
    "print(artifact_counts_sorted)"
   ],
   "metadata": {
    "collapsed": false
   },
   "id": "38fb3814c07e072c"
  },
  {
   "cell_type": "code",
   "outputs": [],
   "source": [
    "from pymongo import MongoClient\n",
    "\n",
    "\n",
    "def connect_to_mongodb():\n",
    "    client = MongoClient(\"mongodb://localhost:27072/\")\n",
    "    db = client.osv_db\n",
    "    return db\n",
    "\n",
    "\n",
    "mongo_db = connect_to_mongodb()\n",
    "\n",
    "\n",
    "def is_vulnerable(library, version):\n",
    "    query = {\n",
    "        \"affected.package.name\": library,\n",
    "        \"affected.package.ecosystem\": \"Maven\",\n",
    "        \"affected.versions\": version,\n",
    "    }\n",
    "    return mongo_db.data.find(query)"
   ],
   "metadata": {
    "collapsed": false
   },
   "id": "f3bee1e63faf051e"
  },
  {
   "cell_type": "code",
   "outputs": [],
   "source": [
    "not_reported_vulnerabilities_count = 0\n",
    "artifacts_not_reported = []\n",
    "for index, row in df.iterrows():\n",
    "    group_id, artifact_id, version = row[\"Matching Artifact\"].split(\":\")\n",
    "    library = f\"{group_id}:{artifact_id}\"\n",
    "    # print(f\"Checking {library} {version}\")\n",
    "    vulnerabilities = list(is_vulnerable(library, version))\n",
    "    if len(vulnerabilities) == 0:\n",
    "        not_reported_vulnerabilities_count += 1\n",
    "        artifacts_not_reported.append((group_id, artifact_id, version))\n",
    "        # print(f\"Vulnerability not reported for {library} {version}\")\n",
    "    \n",
    "print(f\"Total not reported vulnerabilities: {not_reported_vulnerabilities_count}\")\n"
   ],
   "metadata": {
    "collapsed": false
   },
   "id": "112c99319afb6095"
  },
  {
   "cell_type": "code",
   "outputs": [],
   "source": [
    "# write this to a file\n",
    "with open(\"artifacts_not_reported.txt\", \"w\") as f:\n",
    "    for artifact in artifacts_not_reported:\n",
    "        f.write(f\"{artifact[0]}:{artifact[1]}:{artifact[2]}\\n\")"
   ],
   "metadata": {
    "collapsed": false
   },
   "id": "c2ebade57d8fe6aa"
  },
  {
   "cell_type": "code",
   "outputs": [],
   "source": [
    "from mysql.connector import pooling\n",
    "from jproperties import Properties\n",
    "\n",
    "properties = Properties()\n",
    "with open(\"../config.properties\", \"rb\") as properties_file:\n",
    "    properties.load(properties_file, \"utf-8\")\n",
    "\n",
    "\n",
    "def parse_database_url(db_url):\n",
    "    # db_url is in the format \"jdbc:postgresql://localhost:5432/maven\"\n",
    "    try:\n",
    "        url_parts = db_url.split(\"//\")[1].split(\"/\")\n",
    "        host_port = url_parts[0]\n",
    "        database = url_parts[1]\n",
    "\n",
    "        host = host_port.split(\":\")[0]\n",
    "\n",
    "        return host, database\n",
    "    except IndexError:\n",
    "        raise ValueError(\"Invalid database URL format\")\n",
    "\n",
    "db_host, db_name = parse_database_url(properties.get(\"database.url\").data)\n",
    "\n",
    "\n",
    "def connect_to_db():\n",
    "    try:\n",
    "        connection_pool = pooling.MySQLConnectionPool(\n",
    "            pool_name=\"pom_resolution_pool\",\n",
    "            pool_size=5,\n",
    "            host=db_host,\n",
    "            database=db_name,\n",
    "            user=properties.get(\"database.username\").data,\n",
    "            password=properties.get(\"database.password\").data,\n",
    "        )\n",
    "        return connection_pool\n",
    "    except Exception as e:\n",
    "        print(f\"Error connecting to the database: {e}\")\n",
    "        return None"
   ],
   "metadata": {
    "collapsed": false
   },
   "id": "d8977004875d2e2b"
  },
  {
   "cell_type": "code",
   "outputs": [],
   "source": [
    "creation_dates = []\n",
    "connection_pool = connect_to_db()\n",
    "connection_object = connection_pool.get_connection()\n",
    "if connection_pool is None:\n",
    "    print(\"Error connecting to the database\")\n",
    "else:\n",
    "    for artifact in artifacts_not_reported:\n",
    "\n",
    "\n",
    "\n",
    "        cursor = connection_object.cursor()\n",
    "\n",
    "        group_id, artifact_id, version = artifact\n",
    "        query = f\"SELECT creation_date FROM libraries_big WHERE group_id = '{group_id}' AND artifact_id = '{artifact_id}' AND version = '{version}'\"\n",
    "        cursor.execute(query)\n",
    "        result = cursor.fetchall()\n",
    "        # creation_date is of type datetime DEFAULT NULL in mariadb\n",
    "        if len(result) != 0:\n",
    "            creation_dates.append(result[0][0])\n",
    "\n",
    "cursor.close()\n",
    "connection_object.close()"
   ],
   "metadata": {
    "collapsed": false
   },
   "id": "b1f7f0f1d60f0f35"
  },
  {
   "cell_type": "code",
   "outputs": [],
   "source": [
    "# write this to a file\n",
    "with open(\"non_reported_artifacts_creation_dates.txt\", \"w\") as f:\n",
    "    for date in creation_dates:\n",
    "        f.write(f\"{date}\\n\")"
   ],
   "metadata": {
    "collapsed": false
   },
   "id": "ea97cbd8cf5b16d4"
  },
  {
   "cell_type": "code",
   "outputs": [],
   "source": [
    "import matplotlib.pyplot as plt\n",
    "import numpy as np\n",
    "import matplotlib.dates as mdates\n",
    "\n",
    "creation_dates = np.array(creation_dates)\n",
    "years = mdates.YearLocator()\n",
    "years_fmt = mdates.DateFormatter('%Y')\n",
    "\n",
    "plt.rcParams.update(\n",
    "        {\n",
    "            \"font.family\": \"serif\",\n",
    "            \"text.usetex\": True,\n",
    "            \"pgf.rcfonts\": False,\n",
    "            \"pgf.preamble\": r\"\\usepackage{times}\" + \"\\n\" + r\"\\usepackage{mathptmx}\",\n",
    "        }\n",
    "    )\n",
    "\n",
    "plt.figure(figsize=(10, 5))\n",
    "n, bins, patches = plt.hist(creation_dates, bins=80, color='skyblue', edgecolor='black')\n",
    "\n",
    "\n",
    "plt.gca().xaxis.set_major_locator(years)\n",
    "plt.gca().xaxis.set_major_formatter(years_fmt)\n",
    "\n",
    "plt.title('Distribution of vulnerable artifacts creation dates', fontsize=16)\n",
    "plt.xlabel('Year', fontsize=12)\n",
    "plt.ylabel('Number of vulnerable artifacts', fontsize=12)\n",
    "\n",
    "plt.gcf().autofmt_xdate()\n",
    "\n",
    "plt.grid(True)\n",
    "\n",
    "plt.tight_layout()\n",
    "plt.savefig('vulnerable_artifacts_creation_dates.pdf', format='pdf')\n",
    "\n",
    "plt.show()"
   ],
   "metadata": {
    "collapsed": false
   },
   "id": "e5990c65c054edd"
  },
  {
   "cell_type": "code",
   "outputs": [],
   "source": [],
   "metadata": {
    "collapsed": false
   },
   "id": "b36c926295075def"
  }
 ],
 "metadata": {
  "kernelspec": {
   "display_name": "Python 3",
   "language": "python",
   "name": "python3"
  },
  "language_info": {
   "codemirror_mode": {
    "name": "ipython",
    "version": 2
   },
   "file_extension": ".py",
   "mimetype": "text/x-python",
   "name": "python",
   "nbconvert_exporter": "python",
   "pygments_lexer": "ipython2",
   "version": "2.7.6"
  }
 },
 "nbformat": 4,
 "nbformat_minor": 5
}
